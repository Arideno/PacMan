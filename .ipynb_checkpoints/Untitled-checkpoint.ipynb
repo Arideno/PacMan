{
 "cells": [
  {
   "cell_type": "code",
   "execution_count": 1,
   "id": "6bbcaca1",
   "metadata": {},
   "outputs": [],
   "source": [
    "import pandas as pd\n",
    "import matplotlib.pyplot as plt\n",
    "from sklearn import linear_model"
   ]
  },
  {
   "cell_type": "code",
   "execution_count": 31,
   "id": "6c56c6cc",
   "metadata": {},
   "outputs": [],
   "source": [
    "df = pd.read_csv('results.csv', usecols=['win', 'time', 'score', 'algo'])"
   ]
  },
  {
   "cell_type": "code",
   "execution_count": 32,
   "id": "40261170",
   "metadata": {},
   "outputs": [
    {
     "data": {
      "text/html": [
       "<div>\n",
       "<style scoped>\n",
       "    .dataframe tbody tr th:only-of-type {\n",
       "        vertical-align: middle;\n",
       "    }\n",
       "\n",
       "    .dataframe tbody tr th {\n",
       "        vertical-align: top;\n",
       "    }\n",
       "\n",
       "    .dataframe thead th {\n",
       "        text-align: right;\n",
       "    }\n",
       "</style>\n",
       "<table border=\"1\" class=\"dataframe\">\n",
       "  <thead>\n",
       "    <tr style=\"text-align: right;\">\n",
       "      <th></th>\n",
       "      <th>win</th>\n",
       "      <th>time</th>\n",
       "      <th>score</th>\n",
       "      <th>algo</th>\n",
       "    </tr>\n",
       "  </thead>\n",
       "  <tbody>\n",
       "    <tr>\n",
       "      <th>0</th>\n",
       "      <td>0</td>\n",
       "      <td>34.138653</td>\n",
       "      <td>210</td>\n",
       "      <td>1.0</td>\n",
       "    </tr>\n",
       "    <tr>\n",
       "      <th>1</th>\n",
       "      <td>0</td>\n",
       "      <td>21.272570</td>\n",
       "      <td>260</td>\n",
       "      <td>1.0</td>\n",
       "    </tr>\n",
       "    <tr>\n",
       "      <th>2</th>\n",
       "      <td>0</td>\n",
       "      <td>32.501720</td>\n",
       "      <td>250</td>\n",
       "      <td>1.0</td>\n",
       "    </tr>\n",
       "    <tr>\n",
       "      <th>3</th>\n",
       "      <td>0</td>\n",
       "      <td>27.737314</td>\n",
       "      <td>280</td>\n",
       "      <td>1.0</td>\n",
       "    </tr>\n",
       "    <tr>\n",
       "      <th>4</th>\n",
       "      <td>0</td>\n",
       "      <td>15.964474</td>\n",
       "      <td>120</td>\n",
       "      <td>1.0</td>\n",
       "    </tr>\n",
       "  </tbody>\n",
       "</table>\n",
       "</div>"
      ],
      "text/plain": [
       "   win       time  score  algo\n",
       "0    0  34.138653    210   1.0\n",
       "1    0  21.272570    260   1.0\n",
       "2    0  32.501720    250   1.0\n",
       "3    0  27.737314    280   1.0\n",
       "4    0  15.964474    120   1.0"
      ]
     },
     "execution_count": 32,
     "metadata": {},
     "output_type": "execute_result"
    }
   ],
   "source": [
    "df['algo'] = df['algo'].apply(lambda x: float(1 if str(x) == 'minimax' else 0))\n",
    "df.head()"
   ]
  },
  {
   "cell_type": "code",
   "execution_count": 36,
   "id": "d4583dcd",
   "metadata": {},
   "outputs": [],
   "source": [
    "minimax_df = df[df.algo == 1]\n",
    "expectimax_df = df[df.algo == 0]"
   ]
  },
  {
   "cell_type": "code",
   "execution_count": 37,
   "id": "cd840831",
   "metadata": {},
   "outputs": [
    {
     "data": {
      "image/png": "[encoded data removed]",
      "text/plain": [
       "<Figure size 576x576 with 1 Axes>"
      ]
     },
     "metadata": {
      "needs_background": "light"
     },
     "output_type": "display_data"
    }
   ],
   "source": [
    "fig = plt.figure(figsize = (8, 8))\n",
    "minimax_scatter = plt.scatter(minimax_df['time'], minimax_df['score'], s=10, color=\"green\")\n",
    "expectimax_sc = plt.scatter(expectimax_df['time'], expectimax_df['score'], s=10, color=\"red\")"
   ]
  },
  {
   "cell_type": "code",
   "execution_count": 38,
   "id": "2636b8bf",
   "metadata": {},
   "outputs": [
    {
     "data": {
      "text/plain": [
       "LinearRegression()"
      ]
     },
     "execution_count": 38,
     "metadata": {},
     "output_type": "execute_result"
    }
   ],
   "source": [
    "regression = linear_model.LinearRegression()\n",
    "regression.fit(df[['time', 'algo']], df['score'])"
   ]
  },
  {
   "cell_type": "code",
   "execution_count": 40,
   "id": "8ad5a628",
   "metadata": {},
   "outputs": [
    {
     "data": {
      "text/plain": [
       "[<matplotlib.lines.Line2D at 0x156f0fa30>]"
      ]
     },
     "execution_count": 40,
     "metadata": {},
     "output_type": "execute_result"
    },
    {
     "data": {
      "image/png": "[encoded data removed]",
      "text/plain": [
       "<Figure size 576x576 with 1 Axes>"
      ]
     },
     "metadata": {
      "needs_background": "light"
     },
     "output_type": "display_data"
    }
   ],
   "source": [
    "fig = plt.figure(figsize = (8, 8))\n",
    "minimax_sc = plt.scatter(minimax_df['time'], minimax_df['score'], s=10, color=\"green\")\n",
    "expectimax_sc = plt.scatter(expectimax_df['time'], expectimax_df['score'], s=10, color=\"red\")\n",
    "plt.plot(minimax_df['time'], regression.predict(minimax_df[['time', 'algo']]), color=\"green\")\n",
    "plt.plot(expectimax_df['time'], regression.predict(expectimax_df[['time', 'algo']]), color=\"red\")"
   ]
  },
  {
   "cell_type": "code",
   "execution_count": 48,
   "id": "e182dc2f",
   "metadata": {},
   "outputs": [
    {
     "data": {
      "text/html": [
       "<div>\n",
       "<style scoped>\n",
       "    .dataframe tbody tr th:only-of-type {\n",
       "        vertical-align: middle;\n",
       "    }\n",
       "\n",
       "    .dataframe tbody tr th {\n",
       "        vertical-align: top;\n",
       "    }\n",
       "\n",
       "    .dataframe thead th {\n",
       "        text-align: right;\n",
       "    }\n",
       "</style>\n",
       "<table border=\"1\" class=\"dataframe\">\n",
       "  <thead>\n",
       "    <tr style=\"text-align: right;\">\n",
       "      <th></th>\n",
       "      <th>win</th>\n",
       "      <th>time</th>\n",
       "      <th>actual_score</th>\n",
       "      <th>predicted_score</th>\n",
       "    </tr>\n",
       "  </thead>\n",
       "  <tbody>\n",
       "    <tr>\n",
       "      <th>0</th>\n",
       "      <td>0</td>\n",
       "      <td>34.138653</td>\n",
       "      <td>210</td>\n",
       "      <td>382.885391</td>\n",
       "    </tr>\n",
       "    <tr>\n",
       "      <th>1</th>\n",
       "      <td>0</td>\n",
       "      <td>21.272570</td>\n",
       "      <td>260</td>\n",
       "      <td>211.774017</td>\n",
       "    </tr>\n",
       "    <tr>\n",
       "      <th>2</th>\n",
       "      <td>0</td>\n",
       "      <td>32.501720</td>\n",
       "      <td>250</td>\n",
       "      <td>361.115139</td>\n",
       "    </tr>\n",
       "    <tr>\n",
       "      <th>3</th>\n",
       "      <td>0</td>\n",
       "      <td>27.737314</td>\n",
       "      <td>280</td>\n",
       "      <td>297.751328</td>\n",
       "    </tr>\n",
       "    <tr>\n",
       "      <th>4</th>\n",
       "      <td>0</td>\n",
       "      <td>15.964474</td>\n",
       "      <td>120</td>\n",
       "      <td>141.179446</td>\n",
       "    </tr>\n",
       "  </tbody>\n",
       "</table>\n",
       "</div>"
      ],
      "text/plain": [
       "   win       time  actual_score  predicted_score\n",
       "0    0  34.138653           210       382.885391\n",
       "1    0  21.272570           260       211.774017\n",
       "2    0  32.501720           250       361.115139\n",
       "3    0  27.737314           280       297.751328\n",
       "4    0  15.964474           120       141.179446"
      ]
     },
     "execution_count": 48,
     "metadata": {},
     "output_type": "execute_result"
    }
   ],
   "source": [
    "predict_table = pd.DataFrame(columns=['win', 'time', 'actual_score', 'predicted_score'])\n",
    "predict_table.win = df[:5].win\n",
    "predict_table.time = df[:5].time\n",
    "predict_table.actual_score = df[:5].score\n",
    "predict_table.predicted_score = regression.predict(df[:5][['time', 'algo']])\n",
    "predict_table"
   ]
  }
 ],
 "metadata": {
  "kernelspec": {
   "display_name": "Python 3 (ipykernel)",
   "language": "python",
   "name": "python3"
  },
  "language_info": {
   "codemirror_mode": {
    "name": "ipython",
    "version": 3
   },
   "file_extension": ".py",
   "mimetype": "text/x-python",
   "name": "python",
   "nbconvert_exporter": "python",
   "pygments_lexer": "ipython3",
   "version": "3.9.9"
  }
 },
 "nbformat": 4,
 "nbformat_minor": 5
}
